{
 "cells": [
  {
   "cell_type": "code",
   "execution_count": 1,
   "id": "f43b27ba-c19f-4cad-af01-b02ba07439d2",
   "metadata": {},
   "outputs": [],
   "source": [
    "import dlt\n",
    "from dlt.sources.helpers.rest_client import RESTClient\n",
    "from dlt.sources.helpers.rest_client.paginators import PageNumberPaginator\n",
    "import duckdb\n",
    "import pandas as pd\n",
    "\n",
    "# Define the API resource for NYC taxi data\n",
    "@dlt.resource(name=\"rides\")   # <--- The name of the resource (will be used as the table name)\n",
    "def ny_taxi():\n",
    "    client = RESTClient(\n",
    "        base_url=\"https://us-central1-dlthub-analytics.cloudfunctions.net\",\n",
    "        paginator=PageNumberPaginator(\n",
    "            base_page=1,\n",
    "            total_path=None\n",
    "        )\n",
    "    )\n",
    "\n",
    "\n",
    "    for page in client.paginate(\"data_engineering_zoomcamp_api\"):    # <--- API endpoint for retrieving taxi ride data\n",
    "        yield page   # <--- yield data to manage memory\n",
    "\n",
    "\n",
    "# define new dlt pipeline\n",
    "pipeline = dlt.pipeline(destination=\"duckdb\")"
   ]
  },
  {
   "cell_type": "code",
   "execution_count": 6,
   "id": "4d8cbee1-c943-4f8c-a1b7-f763f3fd040c",
   "metadata": {},
   "outputs": [
    {
     "name": "stdout",
     "output_type": "stream",
     "text": [
      "Pipeline Execution Info: Pipeline dlt_ipykernel_launcher load step completed in 1.21 seconds\n",
      "1 load package(s) were loaded to destination duckdb and into dataset dlt_ipykernel_launcher_dataset\n",
      "The duckdb destination used duckdb:////Users/yitian66/Documents/DE-Datacamp/Workshop/dlt_ipykernel_launcher.duckdb location to store data\n",
      "Load package 1739324181.655221 is LOADED and contains no failed jobs\n"
     ]
    }
   ],
   "source": [
    "# run the pipeline with the new resource\n",
    "load_info = pipeline.run(ny_taxi, write_disposition=\"replace\")\n",
    "print(\"Pipeline Execution Info:\", load_info)"
   ]
  },
  {
   "cell_type": "code",
   "execution_count": 7,
   "id": "0eb98264-af08-4b77-b422-73fc861e6648",
   "metadata": {},
   "outputs": [
    {
     "name": "stdout",
     "output_type": "stream",
     "text": [
      "Data Preview:\n",
      "     end_lat    end_lon  fare_amt  passenger_count payment_type  start_lat  \\\n",
      "0  40.742963 -73.980072      45.0                1       Credit  40.641525   \n",
      "1  40.740187 -74.005698       6.5                1       Credit  40.722065   \n",
      "2  40.718043 -74.004745      12.5                5       Credit  40.761945   \n",
      "3  40.739637 -73.985233       4.9                1         CASH  40.749802   \n",
      "4  40.730032 -73.852693      25.7                1         CASH  40.776825   \n",
      "\n",
      "   start_lon  tip_amt  tolls_amt  total_amt  trip_distance  \\\n",
      "0 -73.787442      9.0       4.15      58.15          17.52   \n",
      "1 -74.009767      1.0       0.00       8.50           1.56   \n",
      "2 -73.983038      2.0       0.00      15.50           3.37   \n",
      "3 -73.992247      0.0       0.00       5.40           1.11   \n",
      "4 -73.949233      0.0       4.15      29.85          11.09   \n",
      "\n",
      "     trip_dropoff_date_time     trip_pickup_date_time  surcharge vendor_name  \\\n",
      "0 2009-06-14 23:48:00+00:00 2009-06-14 23:23:00+00:00        0.0         VTS   \n",
      "1 2009-06-18 17:43:00+00:00 2009-06-18 17:35:00+00:00        1.0         VTS   \n",
      "2 2009-06-10 18:27:00+00:00 2009-06-10 18:08:00+00:00        1.0         VTS   \n",
      "3 2009-06-14 23:58:00+00:00 2009-06-14 23:54:00+00:00        0.5         VTS   \n",
      "4 2009-06-13 13:23:00+00:00 2009-06-13 13:01:00+00:00        0.0         VTS   \n",
      "\n",
      "        _dlt_load_id         _dlt_id  store_and_forward  \n",
      "0  1739324181.655221  Z2tTpiUsUs7AQA                NaN  \n",
      "1  1739324181.655221  rPerA0mgM8u7SA                NaN  \n",
      "2  1739324181.655221  JUJgKfFQZA5AYg                NaN  \n",
      "3  1739324181.655221  8YEKhWEWXFtoFw                NaN  \n",
      "4  1739324181.655221  G/z1sB8uTgj+SA                NaN  \n"
     ]
    }
   ],
   "source": [
    "# explore loaded data\n",
    "data = pipeline.dataset(dataset_type=\"default\").rides.df()\n",
    "print(\"Data Preview:\")\n",
    "print(data.head())  # Display the first few rows of the loaded data"
   ]
  },
  {
   "cell_type": "code",
   "execution_count": 10,
   "id": "5c55b764-ec71-461c-b12d-577dde882915",
   "metadata": {},
   "outputs": [
    {
     "name": "stdout",
     "output_type": "stream",
     "text": [
      "                 database                          schema  \\\n",
      "0  dlt_ipykernel_launcher  dlt_ipykernel_launcher_dataset   \n",
      "1  dlt_ipykernel_launcher  dlt_ipykernel_launcher_dataset   \n",
      "2  dlt_ipykernel_launcher  dlt_ipykernel_launcher_dataset   \n",
      "3  dlt_ipykernel_launcher  dlt_ipykernel_launcher_dataset   \n",
      "\n",
      "                  name                                       column_names  \\\n",
      "0           _dlt_loads  [load_id, schema_name, status, inserted_at, sc...   \n",
      "1  _dlt_pipeline_state  [version, engine_version, pipeline_name, state...   \n",
      "2         _dlt_version  [version, engine_version, inserted_at, schema_...   \n",
      "3                rides  [end_lat, end_lon, fare_amt, passenger_count, ...   \n",
      "\n",
      "                                        column_types  temporary  \n",
      "0  [VARCHAR, VARCHAR, BIGINT, TIMESTAMP WITH TIME...      False  \n",
      "1  [BIGINT, BIGINT, VARCHAR, VARCHAR, TIMESTAMP W...      False  \n",
      "2  [BIGINT, BIGINT, TIMESTAMP WITH TIME ZONE, VAR...      False  \n",
      "3  [DOUBLE, DOUBLE, DOUBLE, BIGINT, VARCHAR, DOUB...      False  \n"
     ]
    }
   ],
   "source": [
    "# Connect to the DuckDB database\n",
    "conn = duckdb.connect(f\"{pipeline.pipeline_name}.duckdb\")\n",
    "\n",
    "# Set search path to the dataset\n",
    "conn.sql(f\"SET search_path = '{pipeline.dataset_name}'\")\n",
    "\n",
    "# Describe the dataset \n",
    "desc_df = conn.sql(\"DESCRIBE\").df()\n",
    "\n",
    "print(desc_df.head())"
   ]
  },
  {
   "cell_type": "code",
   "execution_count": 12,
   "id": "7593f7e5-d58c-4690-a066-a0509e31b438",
   "metadata": {},
   "outputs": [
    {
     "name": "stdout",
     "output_type": "stream",
     "text": [
      "10000\n"
     ]
    }
   ],
   "source": [
    "data = pipeline.dataset(dataset_type=\"default\").rides.df()\n",
    "print(len(data))"
   ]
  },
  {
   "cell_type": "code",
   "execution_count": 13,
   "id": "e7fd30a4-b2ba-476d-a939-7ab6a7887108",
   "metadata": {},
   "outputs": [
    {
     "name": "stdout",
     "output_type": "stream",
     "text": [
      "[(12.3049,)]\n"
     ]
    }
   ],
   "source": [
    "with pipeline.sql_client() as client:\n",
    "    res = client.execute_sql(\n",
    "            \"\"\"\n",
    "            SELECT\n",
    "            AVG(date_diff('minute', trip_pickup_date_time, trip_dropoff_date_time))\n",
    "            FROM rides;\n",
    "            \"\"\"\n",
    "        )\n",
    "    # Prints column values of the first row\n",
    "    print(res)"
   ]
  },
  {
   "cell_type": "code",
   "execution_count": null,
   "id": "073d4859-34aa-43ea-b6eb-a1dcfd589eca",
   "metadata": {},
   "outputs": [],
   "source": []
  }
 ],
 "metadata": {
  "kernelspec": {
   "display_name": "Python 3 (ipykernel)",
   "language": "python",
   "name": "python3"
  },
  "language_info": {
   "codemirror_mode": {
    "name": "ipython",
    "version": 3
   },
   "file_extension": ".py",
   "mimetype": "text/x-python",
   "name": "python",
   "nbconvert_exporter": "python",
   "pygments_lexer": "ipython3",
   "version": "3.11.2"
  }
 },
 "nbformat": 4,
 "nbformat_minor": 5
}
